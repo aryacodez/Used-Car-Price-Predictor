{
  "nbformat": 4,
  "nbformat_minor": 0,
  "metadata": {
    "colab": {
      "name": "Used Car Price Prediction-Streamlit.ipynb",
      "provenance": [],
      "collapsed_sections": [],
      "authorship_tag": "ABX9TyMFUobsal6+N6XzbUsIOSiQ",
      "include_colab_link": true
    },
    "kernelspec": {
      "name": "python3",
      "display_name": "Python 3"
    },
    "language_info": {
      "name": "python"
    }
  },
  "cells": [
    {
      "cell_type": "markdown",
      "metadata": {
        "id": "view-in-github",
        "colab_type": "text"
      },
      "source": [
        "<a href=\"https://colab.research.google.com/github/aryacodez/Used-Car-Price-Predictor/blob/main/Used_Car_Price_Prediction_Streamlit.ipynb\" target=\"_parent\"><img src=\"https://colab.research.google.com/assets/colab-badge.svg\" alt=\"Open In Colab\"/></a>"
      ]
    },
    {
      "cell_type": "code",
      "execution_count": 1,
      "metadata": {
        "id": "OYXm2gYHk3rd"
      },
      "outputs": [],
      "source": [
        "!pip install -q ipykernel~=4.10"
      ]
    },
    {
      "cell_type": "code",
      "source": [
        "!pip install -q ipython~=5.5.0"
      ],
      "metadata": {
        "id": "8KO-AKZplV4a"
      },
      "execution_count": 2,
      "outputs": []
    },
    {
      "cell_type": "code",
      "source": [
        "!pip install -q streamlit\n",
        "!pip install pyngrok"
      ],
      "metadata": {
        "colab": {
          "base_uri": "https://localhost:8080/"
        },
        "id": "8DE71BdjlXpU",
        "outputId": "9b13fbf6-9606-4850-bb0f-533336c3ade8"
      },
      "execution_count": 3,
      "outputs": [
        {
          "output_type": "stream",
          "name": "stdout",
          "text": [
            "\u001b[K     |████████████████████████████████| 9.7 MB 5.6 MB/s \n",
            "\u001b[K     |████████████████████████████████| 4.3 MB 56.6 MB/s \n",
            "\u001b[K     |████████████████████████████████| 111 kB 42.7 MB/s \n",
            "\u001b[K     |████████████████████████████████| 180 kB 44.6 MB/s \n",
            "\u001b[K     |████████████████████████████████| 164 kB 51.1 MB/s \n",
            "\u001b[K     |████████████████████████████████| 76 kB 4.6 MB/s \n",
            "\u001b[K     |████████████████████████████████| 63 kB 1.6 MB/s \n",
            "\u001b[K     |████████████████████████████████| 128 kB 58.5 MB/s \n",
            "\u001b[K     |████████████████████████████████| 792 kB 44.7 MB/s \n",
            "\u001b[K     |████████████████████████████████| 375 kB 45.0 MB/s \n",
            "\u001b[?25h  Building wheel for blinker (setup.py) ... \u001b[?25l\u001b[?25hdone\n",
            "\u001b[31mERROR: pip's dependency resolver does not currently take into account all the packages that are installed. This behaviour is the source of the following dependency conflicts.\n",
            "jupyter-console 5.2.0 requires prompt-toolkit<2.0.0,>=1.0.0, but you have prompt-toolkit 3.0.26 which is incompatible.\n",
            "google-colab 1.0.0 requires ipykernel~=4.10, but you have ipykernel 6.8.0 which is incompatible.\n",
            "google-colab 1.0.0 requires ipython~=5.5.0, but you have ipython 7.31.1 which is incompatible.\u001b[0m\n",
            "Collecting pyngrok\n",
            "  Downloading pyngrok-5.1.0.tar.gz (745 kB)\n",
            "\u001b[K     |████████████████████████████████| 745 kB 5.3 MB/s \n",
            "\u001b[?25hRequirement already satisfied: PyYAML in /usr/local/lib/python3.7/dist-packages (from pyngrok) (3.13)\n",
            "Building wheels for collected packages: pyngrok\n",
            "  Building wheel for pyngrok (setup.py) ... \u001b[?25l\u001b[?25hdone\n",
            "  Created wheel for pyngrok: filename=pyngrok-5.1.0-py3-none-any.whl size=19007 sha256=355e98449c85631428c397a4e549f39dcb0aa66433b83305921fdd13cb44edcf\n",
            "  Stored in directory: /root/.cache/pip/wheels/bf/e6/af/ccf6598ecefecd44104069371795cb9b3afbcd16987f6ccfb3\n",
            "Successfully built pyngrok\n",
            "Installing collected packages: pyngrok\n",
            "Successfully installed pyngrok-5.1.0\n"
          ]
        }
      ]
    },
    {
      "cell_type": "code",
      "source": [
        "%%writefile app.py\n",
        "import streamlit as st\n",
        "import matplotlib.pyplot as plt\n",
        "import numpy as np\n",
        "import pandas as pd\n",
        "import pickle\n",
        "\n",
        "#Load-Model\n",
        "classifier = pickle.load(open('/content/dtrmodel.pkl','rb'))\n",
        "\n",
        "#Page-Design\n",
        "title = '<h2 style=\"font-family:arial; color:black; font-size: 47px;text-align:center;\"><b>Pre-owned Car Price Prediction</b></h2>'\n",
        "st.markdown(title,unsafe_allow_html=True)\n",
        "\n",
        "title2 = '<p style=\"font-family:Sans-serif; color:#a1a6ad; font-size: 18px;text-align:center;\"><b>Not Sure at what price you want to sell your car?<br>Use our tool to predict the selling price of your car</b></p>'\n",
        "st.markdown(title2,unsafe_allow_html=True)\n",
        "\n",
        "title1 = '<h4 style=\"font-family:arial; color:black; font-size: 30px;text-align:center;\"><b>Parameters</b></h4>'\n",
        "st.markdown(title1,unsafe_allow_html=True)\n",
        "\n",
        "\n",
        "#Input-Fields\n",
        "col1,col2 = st.columns(2)\n",
        "with col1:\n",
        "  cp = st.text_input(\"Current Price (eg: 4.56)\")\n",
        "with col2:  \n",
        "  kms = st.text_input('Kilometer Driven')\n",
        "\n",
        "col3,col4 = st.columns(2)\n",
        "with col3:\n",
        "  seller = st.selectbox('Select Seller Type',('Dealer','Individual'))\n",
        "with col4:\n",
        "  trans = st.selectbox('Select Transmission Type',('Manual','Automatic'))\n",
        "\n",
        "col5,col6 = st.columns(2)\n",
        "with col5:\n",
        "  own = st.selectbox('Select Owner Type',('First (0)','Second (1)','Third (2)'))\n",
        "with col6:\n",
        "  age = st.text_input(\"Age Difference (Current Year - MFG Year of Car)\")\n",
        "\n",
        "#Encoding\n",
        "if seller == 'Dealer':\n",
        "  y = 0\n",
        "else:\n",
        "  y = 1\n",
        "\n",
        "if trans == 'Manual':\n",
        "  z = 1\n",
        "else:\n",
        "  z = 0\n",
        "\n",
        "if own == 'First (0)':\n",
        "  m = 0\n",
        "elif own == 'Second (1)':\n",
        "  m = 1\n",
        "else:\n",
        "  m = 3\n",
        "\n",
        "#Prediction\n",
        "col10, col11, col12, col13, col14,col15,col16 = st.columns(7)\n",
        "if col13.button('Submit'):\n",
        "  predict = classifier.predict([[cp,kms,y,z,m,age]])[0]\n",
        "  res = 'The Price of Car :  {} (in Lakhs)'.format(round(predict,3))\n",
        "  st.success(res)"
      ],
      "metadata": {
        "colab": {
          "base_uri": "https://localhost:8080/"
        },
        "id": "YGM7QkbMlbat",
        "outputId": "dc4d4a96-64e3-422e-9953-60c5ddfd1c9f"
      },
      "execution_count": 30,
      "outputs": [
        {
          "output_type": "stream",
          "name": "stdout",
          "text": [
            "Overwriting app.py\n"
          ]
        }
      ]
    },
    {
      "cell_type": "code",
      "source": [
        "!ngrok authtoken 1sxmRs5h5d7BDAp7YxTwILbkH9N_6meKLhsKjFZgRx7trFwmW"
      ],
      "metadata": {
        "colab": {
          "base_uri": "https://localhost:8080/"
        },
        "id": "jSi0BysknRYd",
        "outputId": "1cd7ce7a-9e60-4e4b-d37b-f2e07b4d3d1e"
      },
      "execution_count": 31,
      "outputs": [
        {
          "output_type": "stream",
          "name": "stdout",
          "text": [
            "Authtoken saved to configuration file: /root/.ngrok2/ngrok.yml\n"
          ]
        }
      ]
    },
    {
      "cell_type": "code",
      "source": [
        "from pyngrok import ngrok"
      ],
      "metadata": {
        "id": "EbHbpnVunR9M"
      },
      "execution_count": 32,
      "outputs": []
    },
    {
      "cell_type": "code",
      "source": [
        "!streamlit run --server.port 80 app.py&>/dev/null&"
      ],
      "metadata": {
        "id": "ZCXviKbpnUh-"
      },
      "execution_count": 33,
      "outputs": []
    },
    {
      "cell_type": "code",
      "source": [
        "!pgrep streamlit"
      ],
      "metadata": {
        "colab": {
          "base_uri": "https://localhost:8080/"
        },
        "id": "xW1VRm0InV7A",
        "outputId": "15a9b4ce-f831-4d28-a64d-8210b34d4f00"
      },
      "execution_count": 34,
      "outputs": [
        {
          "output_type": "stream",
          "name": "stdout",
          "text": [
            "229\n",
            "402\n"
          ]
        }
      ]
    },
    {
      "cell_type": "code",
      "source": [
        "url = ngrok.connect()\n",
        "ssh_tunnel = ngrok.connect(22, \"tcp\")"
      ],
      "metadata": {
        "id": "yII88Vp2nXkm"
      },
      "execution_count": 35,
      "outputs": []
    },
    {
      "cell_type": "code",
      "source": [
        "url"
      ],
      "metadata": {
        "colab": {
          "base_uri": "https://localhost:8080/"
        },
        "id": "xE8288MOnZJh",
        "outputId": "a712311d-ca4d-42cb-fe7f-876d7f18b236"
      },
      "execution_count": 36,
      "outputs": [
        {
          "output_type": "execute_result",
          "data": {
            "text/plain": [
              "<NgrokTunnel: \"http://7f4b-35-184-80-173.ngrok.io\" -> \"http://localhost:80\">"
            ]
          },
          "metadata": {},
          "execution_count": 36
        }
      ]
    },
    {
      "cell_type": "code",
      "source": [
        "ngrok.kill()"
      ],
      "metadata": {
        "id": "-6ev86jDnaq7"
      },
      "execution_count": 37,
      "outputs": []
    },
    {
      "cell_type": "code",
      "source": [
        ""
      ],
      "metadata": {
        "id": "szcyr7P7J2c8"
      },
      "execution_count": null,
      "outputs": []
    }
  ]
}
